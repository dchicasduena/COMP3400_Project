{
 "cells": [
  {
   "cell_type": "code",
   "execution_count": 1,
   "id": "c7485a0c-de38-41bb-becb-0d2b310dbcfa",
   "metadata": {},
   "outputs": [],
   "source": [
    "import numpy as np\n",
    "import matplotlib.pyplot as plt\n",
    "import datetime\n",
    "import string\n",
    "import pandas as pd\n",
    "import jinja2\n",
    "\n",
    "import matplotlib.pyplot as plt\n",
    "from sklearn.preprocessing import MinMaxScaler\n",
    "\n",
    "pd.options.mode.chained_assignment = None #chained assignments are not flagged"
   ]
  },
  {
   "cell_type": "code",
   "execution_count": 6,
   "id": "091ab227-ea82-4eeb-98ad-90da44375af0",
   "metadata": {},
   "outputs": [],
   "source": [
    "movies2 = pd.read_csv(\"movies2.csv\")"
   ]
  },
  {
   "cell_type": "code",
   "execution_count": 7,
   "id": "ae606d5b-0bf1-4109-bd85-99d9d0ac0efe",
   "metadata": {},
   "outputs": [
    {
     "name": "stdout",
     "output_type": "stream",
     "text": [
      "<class 'pandas.core.frame.DataFrame'>\n",
      "RangeIndex: 7643 entries, 0 to 7642\n",
      "Data columns (total 12 columns):\n",
      " #   Column    Non-Null Count  Dtype  \n",
      "---  ------    --------------  -----  \n",
      " 0   name      7643 non-null   object \n",
      " 1   rating    7575 non-null   object \n",
      " 2   genre     7643 non-null   object \n",
      " 3   year      7643 non-null   int64  \n",
      " 4   score     7643 non-null   float64\n",
      " 5   director  7643 non-null   object \n",
      " 6   country   7643 non-null   object \n",
      " 7   budget    5484 non-null   float64\n",
      " 8   gross     7466 non-null   float64\n",
      " 9   company   7632 non-null   object \n",
      " 10  runtime   7643 non-null   float64\n",
      " 11  date      7643 non-null   object \n",
      "dtypes: float64(4), int64(1), object(7)\n",
      "memory usage: 716.7+ KB\n"
     ]
    }
   ],
   "source": [
    "movies2.info()"
   ]
  },
  {
   "cell_type": "code",
   "execution_count": 8,
   "id": "f31decac-75a8-4f47-b189-7186039154bb",
   "metadata": {},
   "outputs": [
    {
     "data": {
      "text/plain": [
       "budget      2159\n",
       "gross        177\n",
       "rating        68\n",
       "company       11\n",
       "name           0\n",
       "genre          0\n",
       "year           0\n",
       "score          0\n",
       "director       0\n",
       "country        0\n",
       "runtime        0\n",
       "date           0\n",
       "dtype: int64"
      ]
     },
     "execution_count": 8,
     "metadata": {},
     "output_type": "execute_result"
    }
   ],
   "source": [
    "movies2.isnull().sum().sort_values(ascending=False)"
   ]
  },
  {
   "cell_type": "markdown",
   "id": "07f904ab-9c7e-4db6-a25e-46833dfb9538",
   "metadata": {},
   "source": [
    "## Scaling"
   ]
  },
  {
   "cell_type": "code",
   "execution_count": null,
   "id": "4984b628-098a-44b9-881a-4b5c92cfbfa7",
   "metadata": {},
   "outputs": [],
   "source": [
    "mscaling = movies2[['score', 'runtime', 'gross']].dropna()"
   ]
  },
  {
   "cell_type": "code",
   "execution_count": null,
   "id": "10d8e7fc-9d3a-4059-a516-8e7f7d9e8768",
   "metadata": {},
   "outputs": [],
   "source": [
    "mscaling.info()"
   ]
  }
 ],
 "metadata": {
  "kernelspec": {
   "display_name": "Python 3 (ipykernel)",
   "language": "python",
   "name": "python3"
  },
  "language_info": {
   "codemirror_mode": {
    "name": "ipython",
    "version": 3
   },
   "file_extension": ".py",
   "mimetype": "text/x-python",
   "name": "python",
   "nbconvert_exporter": "python",
   "pygments_lexer": "ipython3",
   "version": "3.9.12"
  }
 },
 "nbformat": 4,
 "nbformat_minor": 5
}
