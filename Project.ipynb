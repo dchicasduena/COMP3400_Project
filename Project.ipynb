{
 "cells": [
  {
   "cell_type": "markdown",
   "metadata": {},
   "source": [
    "## COMP 3400: Data Preparation Techniques Project\n",
    "## Name of our Project\n",
    "\n",
    "**Group Members:**\n",
    "  - Liudmila Strelnikova 201819885\n",
    "  - David Chicas 201919354\n",
    "\n",
    "**Description of our data:**\n",
    "This data set was uploaded by user *Daniel Grijalva* and was found in *Kaggle*, the dataset can be found [here](https://www.kaggle.com/datasets/danielgrijalvas/movies). This dataset compiles different aspect of the film industry from 1980 to 2020. In this data we can observe different patterns like the most commons release dates for films, the highest grossing genres of movies, as well as consumers best rated movies. We will use this information for **nlahnlahnlah**. \n",
    "\n",
    "**Description of our variables:**\n",
    "- **Name:** Title of the film. This helps us differentiate between each film. \n",
    "- **Rating:** Given to each movie by the Classification and Ratings Administration (CARA), the rating provides information needed to determine of a film is suitable for children. We can use this information to see the difference between movies rated for everyone and for a specific group of consumers. \n",
    "- **Genre:** Is a thematic category given to a film depending on theme, plot, topics and other conventions. This information can help us determine what types of genres are the more popular, highest grossing, and more common. \n",
    "- **Year:** Release year of the film. Ranges from 1980 to 2020. We can use this to sed the difference between consuming movies in the past and present. \n",
    "- **Released:** Exact date when the film was released and place of release. This data can be presented in a more useful way by separating the information into two different columns. We can see what is the most commons and uncommon release date for a movie and see how it affects different aspects of the film. \n",
    "- **Score:** Rating given to a film by users of [iMDb.com](https://www.imdb.com) on a scale of 1 to 10 depending on enjoyability of the film. This can help us see any correlation between what consumers like and the different variables like genre, release date, and director.\n",
    "- **Director:** Person who manages the film's creative aspects, like directing the film crew and actors. With the data we have we can see who the highest grossing directors are or the most well rated director. \n",
    "- **Writer:** Person who writed the script for the movie. This information is not relevant to our project.\n",
    "- **Star:** Most known actor in that is in the movie. This information is not relevant to our project.\n",
    "- **Country:** Place where the movie was released for it's premiere, decided by the producers and film company. We can see how the director or production company can affect the country of release for a film. \n",
    "- **Budget:** Amount of money alloted to the film's creation by the producers and film company, presented in US dollars. With this information we can see if a film was profitable or lost money, and we can also see if different directors/film company have any tendencies to having a bigger budget with certain variables. \n",
    "- **Gross:** Refers to gross box office earnings of a movie in U.S. dollars, this does not include any other forms of revenue. This can be used to see any impact that user score has, what genres are the most profitable, and many more correlations.\n",
    "- **Company:** Business in charge of producing the film. We can see what type of film genre is most common with what film company, as well as the success that the companies films have. \n",
    "- **Runtime:** Total amount of time from start to finish that the film lasts. Presented in minutes. With this information we can see if the duration of the movie has any effect on budget, rating, or score. "
   ]
  },
  {
   "cell_type": "code",
   "execution_count": 1,
   "metadata": {},
   "outputs": [],
   "source": [
    "import numpy as np\n",
    "import matplotlib.pyplot as plt\n",
    "import datetime\n",
    "import pandas as pd"
   ]
  },
  {
   "cell_type": "code",
   "execution_count": 2,
   "metadata": {
    "scrolled": false
   },
   "outputs": [
    {
     "data": {
      "text/html": [
       "<div>\n",
       "<style scoped>\n",
       "    .dataframe tbody tr th:only-of-type {\n",
       "        vertical-align: middle;\n",
       "    }\n",
       "\n",
       "    .dataframe tbody tr th {\n",
       "        vertical-align: top;\n",
       "    }\n",
       "\n",
       "    .dataframe thead th {\n",
       "        text-align: right;\n",
       "    }\n",
       "</style>\n",
       "<table border=\"1\" class=\"dataframe\">\n",
       "  <thead>\n",
       "    <tr style=\"text-align: right;\">\n",
       "      <th></th>\n",
       "      <th>name</th>\n",
       "      <th>rating</th>\n",
       "      <th>genre</th>\n",
       "      <th>year</th>\n",
       "      <th>released</th>\n",
       "      <th>score</th>\n",
       "      <th>votes</th>\n",
       "      <th>director</th>\n",
       "      <th>writer</th>\n",
       "      <th>star</th>\n",
       "      <th>country</th>\n",
       "      <th>budget</th>\n",
       "      <th>gross</th>\n",
       "      <th>company</th>\n",
       "      <th>runtime</th>\n",
       "    </tr>\n",
       "  </thead>\n",
       "  <tbody>\n",
       "    <tr>\n",
       "      <th>0</th>\n",
       "      <td>The Shining</td>\n",
       "      <td>R</td>\n",
       "      <td>Drama</td>\n",
       "      <td>1980</td>\n",
       "      <td>June 13, 1980 (United States)</td>\n",
       "      <td>8.4</td>\n",
       "      <td>927000.0</td>\n",
       "      <td>Stanley Kubrick</td>\n",
       "      <td>Stephen King</td>\n",
       "      <td>Jack Nicholson</td>\n",
       "      <td>United Kingdom</td>\n",
       "      <td>19000000.0</td>\n",
       "      <td>46998772.0</td>\n",
       "      <td>Warner Bros.</td>\n",
       "      <td>146.0</td>\n",
       "    </tr>\n",
       "    <tr>\n",
       "      <th>1</th>\n",
       "      <td>The Blue Lagoon</td>\n",
       "      <td>R</td>\n",
       "      <td>Adventure</td>\n",
       "      <td>1980</td>\n",
       "      <td>July 2, 1980 (United States)</td>\n",
       "      <td>5.8</td>\n",
       "      <td>65000.0</td>\n",
       "      <td>Randal Kleiser</td>\n",
       "      <td>Henry De Vere Stacpoole</td>\n",
       "      <td>Brooke Shields</td>\n",
       "      <td>United States</td>\n",
       "      <td>4500000.0</td>\n",
       "      <td>58853106.0</td>\n",
       "      <td>Columbia Pictures</td>\n",
       "      <td>104.0</td>\n",
       "    </tr>\n",
       "    <tr>\n",
       "      <th>2</th>\n",
       "      <td>Star Wars: Episode V - The Empire Strikes Back</td>\n",
       "      <td>PG</td>\n",
       "      <td>Action</td>\n",
       "      <td>1980</td>\n",
       "      <td>June 20, 1980 (United States)</td>\n",
       "      <td>8.7</td>\n",
       "      <td>1200000.0</td>\n",
       "      <td>Irvin Kershner</td>\n",
       "      <td>Leigh Brackett</td>\n",
       "      <td>Mark Hamill</td>\n",
       "      <td>United States</td>\n",
       "      <td>18000000.0</td>\n",
       "      <td>538375067.0</td>\n",
       "      <td>Lucasfilm</td>\n",
       "      <td>124.0</td>\n",
       "    </tr>\n",
       "    <tr>\n",
       "      <th>3</th>\n",
       "      <td>Airplane!</td>\n",
       "      <td>PG</td>\n",
       "      <td>Comedy</td>\n",
       "      <td>1980</td>\n",
       "      <td>July 2, 1980 (United States)</td>\n",
       "      <td>7.7</td>\n",
       "      <td>221000.0</td>\n",
       "      <td>Jim Abrahams</td>\n",
       "      <td>Jim Abrahams</td>\n",
       "      <td>Robert Hays</td>\n",
       "      <td>United States</td>\n",
       "      <td>3500000.0</td>\n",
       "      <td>83453539.0</td>\n",
       "      <td>Paramount Pictures</td>\n",
       "      <td>88.0</td>\n",
       "    </tr>\n",
       "    <tr>\n",
       "      <th>4</th>\n",
       "      <td>Caddyshack</td>\n",
       "      <td>R</td>\n",
       "      <td>Comedy</td>\n",
       "      <td>1980</td>\n",
       "      <td>July 25, 1980 (United States)</td>\n",
       "      <td>7.3</td>\n",
       "      <td>108000.0</td>\n",
       "      <td>Harold Ramis</td>\n",
       "      <td>Brian Doyle-Murray</td>\n",
       "      <td>Chevy Chase</td>\n",
       "      <td>United States</td>\n",
       "      <td>6000000.0</td>\n",
       "      <td>39846344.0</td>\n",
       "      <td>Orion Pictures</td>\n",
       "      <td>98.0</td>\n",
       "    </tr>\n",
       "    <tr>\n",
       "      <th>5</th>\n",
       "      <td>Friday the 13th</td>\n",
       "      <td>R</td>\n",
       "      <td>Horror</td>\n",
       "      <td>1980</td>\n",
       "      <td>May 9, 1980 (United States)</td>\n",
       "      <td>6.4</td>\n",
       "      <td>123000.0</td>\n",
       "      <td>Sean S. Cunningham</td>\n",
       "      <td>Victor Miller</td>\n",
       "      <td>Betsy Palmer</td>\n",
       "      <td>United States</td>\n",
       "      <td>550000.0</td>\n",
       "      <td>39754601.0</td>\n",
       "      <td>Paramount Pictures</td>\n",
       "      <td>95.0</td>\n",
       "    </tr>\n",
       "    <tr>\n",
       "      <th>6</th>\n",
       "      <td>The Blues Brothers</td>\n",
       "      <td>R</td>\n",
       "      <td>Action</td>\n",
       "      <td>1980</td>\n",
       "      <td>June 20, 1980 (United States)</td>\n",
       "      <td>7.9</td>\n",
       "      <td>188000.0</td>\n",
       "      <td>John Landis</td>\n",
       "      <td>Dan Aykroyd</td>\n",
       "      <td>John Belushi</td>\n",
       "      <td>United States</td>\n",
       "      <td>27000000.0</td>\n",
       "      <td>115229890.0</td>\n",
       "      <td>Universal Pictures</td>\n",
       "      <td>133.0</td>\n",
       "    </tr>\n",
       "    <tr>\n",
       "      <th>7</th>\n",
       "      <td>Raging Bull</td>\n",
       "      <td>R</td>\n",
       "      <td>Biography</td>\n",
       "      <td>1980</td>\n",
       "      <td>December 19, 1980 (United States)</td>\n",
       "      <td>8.2</td>\n",
       "      <td>330000.0</td>\n",
       "      <td>Martin Scorsese</td>\n",
       "      <td>Jake LaMotta</td>\n",
       "      <td>Robert De Niro</td>\n",
       "      <td>United States</td>\n",
       "      <td>18000000.0</td>\n",
       "      <td>23402427.0</td>\n",
       "      <td>Chartoff-Winkler Productions</td>\n",
       "      <td>129.0</td>\n",
       "    </tr>\n",
       "    <tr>\n",
       "      <th>8</th>\n",
       "      <td>Superman II</td>\n",
       "      <td>PG</td>\n",
       "      <td>Action</td>\n",
       "      <td>1980</td>\n",
       "      <td>June 19, 1981 (United States)</td>\n",
       "      <td>6.8</td>\n",
       "      <td>101000.0</td>\n",
       "      <td>Richard Lester</td>\n",
       "      <td>Jerry Siegel</td>\n",
       "      <td>Gene Hackman</td>\n",
       "      <td>United States</td>\n",
       "      <td>54000000.0</td>\n",
       "      <td>108185706.0</td>\n",
       "      <td>Dovemead Films</td>\n",
       "      <td>127.0</td>\n",
       "    </tr>\n",
       "    <tr>\n",
       "      <th>9</th>\n",
       "      <td>The Long Riders</td>\n",
       "      <td>R</td>\n",
       "      <td>Biography</td>\n",
       "      <td>1980</td>\n",
       "      <td>May 16, 1980 (United States)</td>\n",
       "      <td>7.0</td>\n",
       "      <td>10000.0</td>\n",
       "      <td>Walter Hill</td>\n",
       "      <td>Bill Bryden</td>\n",
       "      <td>David Carradine</td>\n",
       "      <td>United States</td>\n",
       "      <td>10000000.0</td>\n",
       "      <td>15795189.0</td>\n",
       "      <td>United Artists</td>\n",
       "      <td>100.0</td>\n",
       "    </tr>\n",
       "  </tbody>\n",
       "</table>\n",
       "</div>"
      ],
      "text/plain": [
       "                                             name rating      genre  year  \\\n",
       "0                                     The Shining      R      Drama  1980   \n",
       "1                                 The Blue Lagoon      R  Adventure  1980   \n",
       "2  Star Wars: Episode V - The Empire Strikes Back     PG     Action  1980   \n",
       "3                                       Airplane!     PG     Comedy  1980   \n",
       "4                                      Caddyshack      R     Comedy  1980   \n",
       "5                                 Friday the 13th      R     Horror  1980   \n",
       "6                              The Blues Brothers      R     Action  1980   \n",
       "7                                     Raging Bull      R  Biography  1980   \n",
       "8                                     Superman II     PG     Action  1980   \n",
       "9                                 The Long Riders      R  Biography  1980   \n",
       "\n",
       "                            released  score      votes            director  \\\n",
       "0      June 13, 1980 (United States)    8.4   927000.0     Stanley Kubrick   \n",
       "1       July 2, 1980 (United States)    5.8    65000.0      Randal Kleiser   \n",
       "2      June 20, 1980 (United States)    8.7  1200000.0      Irvin Kershner   \n",
       "3       July 2, 1980 (United States)    7.7   221000.0        Jim Abrahams   \n",
       "4      July 25, 1980 (United States)    7.3   108000.0        Harold Ramis   \n",
       "5        May 9, 1980 (United States)    6.4   123000.0  Sean S. Cunningham   \n",
       "6      June 20, 1980 (United States)    7.9   188000.0         John Landis   \n",
       "7  December 19, 1980 (United States)    8.2   330000.0     Martin Scorsese   \n",
       "8      June 19, 1981 (United States)    6.8   101000.0      Richard Lester   \n",
       "9       May 16, 1980 (United States)    7.0    10000.0         Walter Hill   \n",
       "\n",
       "                    writer             star         country      budget  \\\n",
       "0             Stephen King   Jack Nicholson  United Kingdom  19000000.0   \n",
       "1  Henry De Vere Stacpoole   Brooke Shields   United States   4500000.0   \n",
       "2           Leigh Brackett      Mark Hamill   United States  18000000.0   \n",
       "3             Jim Abrahams      Robert Hays   United States   3500000.0   \n",
       "4       Brian Doyle-Murray      Chevy Chase   United States   6000000.0   \n",
       "5            Victor Miller     Betsy Palmer   United States    550000.0   \n",
       "6              Dan Aykroyd     John Belushi   United States  27000000.0   \n",
       "7             Jake LaMotta   Robert De Niro   United States  18000000.0   \n",
       "8             Jerry Siegel     Gene Hackman   United States  54000000.0   \n",
       "9              Bill Bryden  David Carradine   United States  10000000.0   \n",
       "\n",
       "         gross                       company  runtime  \n",
       "0   46998772.0                  Warner Bros.    146.0  \n",
       "1   58853106.0             Columbia Pictures    104.0  \n",
       "2  538375067.0                     Lucasfilm    124.0  \n",
       "3   83453539.0            Paramount Pictures     88.0  \n",
       "4   39846344.0                Orion Pictures     98.0  \n",
       "5   39754601.0            Paramount Pictures     95.0  \n",
       "6  115229890.0            Universal Pictures    133.0  \n",
       "7   23402427.0  Chartoff-Winkler Productions    129.0  \n",
       "8  108185706.0                Dovemead Films    127.0  \n",
       "9   15795189.0                United Artists    100.0  "
      ]
     },
     "execution_count": 2,
     "metadata": {},
     "output_type": "execute_result"
    }
   ],
   "source": [
    "movies = pd.read_csv('./movies.csv')\n",
    "movies.head(10)"
   ]
  },
  {
   "cell_type": "markdown",
   "metadata": {},
   "source": [
    "## Getting rid of unnecessary columns, splitting \"released\" column"
   ]
  },
  {
   "cell_type": "markdown",
   "metadata": {},
   "source": [
    "The columns \"writer\", \"votes\", and \"star\" do not present any significance in the analysis, so they are removed from the dataframe."
   ]
  },
  {
   "cell_type": "code",
   "execution_count": 3,
   "metadata": {},
   "outputs": [
    {
     "data": {
      "text/html": [
       "<div>\n",
       "<style scoped>\n",
       "    .dataframe tbody tr th:only-of-type {\n",
       "        vertical-align: middle;\n",
       "    }\n",
       "\n",
       "    .dataframe tbody tr th {\n",
       "        vertical-align: top;\n",
       "    }\n",
       "\n",
       "    .dataframe thead th {\n",
       "        text-align: right;\n",
       "    }\n",
       "</style>\n",
       "<table border=\"1\" class=\"dataframe\">\n",
       "  <thead>\n",
       "    <tr style=\"text-align: right;\">\n",
       "      <th></th>\n",
       "      <th>name</th>\n",
       "      <th>rating</th>\n",
       "      <th>genre</th>\n",
       "      <th>year</th>\n",
       "      <th>released</th>\n",
       "      <th>score</th>\n",
       "      <th>director</th>\n",
       "      <th>country</th>\n",
       "      <th>budget</th>\n",
       "      <th>gross</th>\n",
       "      <th>company</th>\n",
       "      <th>runtime</th>\n",
       "    </tr>\n",
       "  </thead>\n",
       "  <tbody>\n",
       "    <tr>\n",
       "      <th>0</th>\n",
       "      <td>The Shining</td>\n",
       "      <td>R</td>\n",
       "      <td>Drama</td>\n",
       "      <td>1980</td>\n",
       "      <td>June 13, 1980 (United States)</td>\n",
       "      <td>8.4</td>\n",
       "      <td>Stanley Kubrick</td>\n",
       "      <td>United Kingdom</td>\n",
       "      <td>19000000.0</td>\n",
       "      <td>46998772.0</td>\n",
       "      <td>Warner Bros.</td>\n",
       "      <td>146.0</td>\n",
       "    </tr>\n",
       "    <tr>\n",
       "      <th>1</th>\n",
       "      <td>The Blue Lagoon</td>\n",
       "      <td>R</td>\n",
       "      <td>Adventure</td>\n",
       "      <td>1980</td>\n",
       "      <td>July 2, 1980 (United States)</td>\n",
       "      <td>5.8</td>\n",
       "      <td>Randal Kleiser</td>\n",
       "      <td>United States</td>\n",
       "      <td>4500000.0</td>\n",
       "      <td>58853106.0</td>\n",
       "      <td>Columbia Pictures</td>\n",
       "      <td>104.0</td>\n",
       "    </tr>\n",
       "    <tr>\n",
       "      <th>2</th>\n",
       "      <td>Star Wars: Episode V - The Empire Strikes Back</td>\n",
       "      <td>PG</td>\n",
       "      <td>Action</td>\n",
       "      <td>1980</td>\n",
       "      <td>June 20, 1980 (United States)</td>\n",
       "      <td>8.7</td>\n",
       "      <td>Irvin Kershner</td>\n",
       "      <td>United States</td>\n",
       "      <td>18000000.0</td>\n",
       "      <td>538375067.0</td>\n",
       "      <td>Lucasfilm</td>\n",
       "      <td>124.0</td>\n",
       "    </tr>\n",
       "    <tr>\n",
       "      <th>3</th>\n",
       "      <td>Airplane!</td>\n",
       "      <td>PG</td>\n",
       "      <td>Comedy</td>\n",
       "      <td>1980</td>\n",
       "      <td>July 2, 1980 (United States)</td>\n",
       "      <td>7.7</td>\n",
       "      <td>Jim Abrahams</td>\n",
       "      <td>United States</td>\n",
       "      <td>3500000.0</td>\n",
       "      <td>83453539.0</td>\n",
       "      <td>Paramount Pictures</td>\n",
       "      <td>88.0</td>\n",
       "    </tr>\n",
       "    <tr>\n",
       "      <th>4</th>\n",
       "      <td>Caddyshack</td>\n",
       "      <td>R</td>\n",
       "      <td>Comedy</td>\n",
       "      <td>1980</td>\n",
       "      <td>July 25, 1980 (United States)</td>\n",
       "      <td>7.3</td>\n",
       "      <td>Harold Ramis</td>\n",
       "      <td>United States</td>\n",
       "      <td>6000000.0</td>\n",
       "      <td>39846344.0</td>\n",
       "      <td>Orion Pictures</td>\n",
       "      <td>98.0</td>\n",
       "    </tr>\n",
       "  </tbody>\n",
       "</table>\n",
       "</div>"
      ],
      "text/plain": [
       "                                             name rating      genre  year  \\\n",
       "0                                     The Shining      R      Drama  1980   \n",
       "1                                 The Blue Lagoon      R  Adventure  1980   \n",
       "2  Star Wars: Episode V - The Empire Strikes Back     PG     Action  1980   \n",
       "3                                       Airplane!     PG     Comedy  1980   \n",
       "4                                      Caddyshack      R     Comedy  1980   \n",
       "\n",
       "                        released  score         director         country  \\\n",
       "0  June 13, 1980 (United States)    8.4  Stanley Kubrick  United Kingdom   \n",
       "1   July 2, 1980 (United States)    5.8   Randal Kleiser   United States   \n",
       "2  June 20, 1980 (United States)    8.7   Irvin Kershner   United States   \n",
       "3   July 2, 1980 (United States)    7.7     Jim Abrahams   United States   \n",
       "4  July 25, 1980 (United States)    7.3     Harold Ramis   United States   \n",
       "\n",
       "       budget        gross             company  runtime  \n",
       "0  19000000.0   46998772.0        Warner Bros.    146.0  \n",
       "1   4500000.0   58853106.0   Columbia Pictures    104.0  \n",
       "2  18000000.0  538375067.0           Lucasfilm    124.0  \n",
       "3   3500000.0   83453539.0  Paramount Pictures     88.0  \n",
       "4   6000000.0   39846344.0      Orion Pictures     98.0  "
      ]
     },
     "execution_count": 3,
     "metadata": {},
     "output_type": "execute_result"
    }
   ],
   "source": [
    "to_drop = ['writer', 'votes', 'star']\n",
    "movies.drop(to_drop, inplace=True, axis=1)\n",
    "movies.head(5)"
   ]
  },
  {
   "cell_type": "markdown",
   "metadata": {},
   "source": [
    "The column \"released\" is split into \"date\" and \"release_country\" for more meaningful analysis. "
   ]
  },
  {
   "cell_type": "code",
   "execution_count": 4,
   "metadata": {},
   "outputs": [],
   "source": [
    "movies[['date','release_country']] = movies.released.str.split(\"(\",expand=True)\n"
   ]
  },
  {
   "cell_type": "markdown",
   "metadata": {},
   "source": [
    "By using the left parenthesis as a split symbol in the previous operation, the right parenthesis in the column release_country should be removed."
   ]
  },
  {
   "cell_type": "code",
   "execution_count": 5,
   "metadata": {},
   "outputs": [],
   "source": [
    "movies['release_country'] = movies['release_country'].str.replace(')', '', regex = True)"
   ]
  },
  {
   "cell_type": "markdown",
   "metadata": {},
   "source": [
    "To finish this cleaning step off, the column \"released\" and \"release_country\" is deleted"
   ]
  },
  {
   "cell_type": "code",
   "execution_count": 6,
   "metadata": {},
   "outputs": [],
   "source": [
    "movies.drop('released', inplace=True, axis=1)\n",
    "movies.drop('release_country', inplace=True, axis=1)"
   ]
  },
  {
   "cell_type": "markdown",
   "metadata": {},
   "source": [
    "Now that we deleted the data we do not need we can format some of our variables like: budget, gross and runtime. \n",
    "Edit: should probably do this last :)"
   ]
  },
  {
   "cell_type": "code",
   "execution_count": 7,
   "metadata": {},
   "outputs": [],
   "source": [
    "#movies['budget'] = movies['budget'].apply(lambda x: f\"${x*1:,.2f}\")\n",
    "#movies['gross'] = movies['gross'].apply(lambda x: f\"${x*1:,.2f}\")\n",
    "#movies['runtime'] = movies['runtime'].apply(lambda x: f\"{x*1:,.0f} min\")"
   ]
  },
  {
   "cell_type": "code",
   "execution_count": 8,
   "metadata": {},
   "outputs": [
    {
     "data": {
      "text/html": [
       "<div>\n",
       "<style scoped>\n",
       "    .dataframe tbody tr th:only-of-type {\n",
       "        vertical-align: middle;\n",
       "    }\n",
       "\n",
       "    .dataframe tbody tr th {\n",
       "        vertical-align: top;\n",
       "    }\n",
       "\n",
       "    .dataframe thead th {\n",
       "        text-align: right;\n",
       "    }\n",
       "</style>\n",
       "<table border=\"1\" class=\"dataframe\">\n",
       "  <thead>\n",
       "    <tr style=\"text-align: right;\">\n",
       "      <th></th>\n",
       "      <th>name</th>\n",
       "      <th>rating</th>\n",
       "      <th>genre</th>\n",
       "      <th>year</th>\n",
       "      <th>score</th>\n",
       "      <th>director</th>\n",
       "      <th>country</th>\n",
       "      <th>budget</th>\n",
       "      <th>gross</th>\n",
       "      <th>company</th>\n",
       "      <th>runtime</th>\n",
       "      <th>date</th>\n",
       "    </tr>\n",
       "  </thead>\n",
       "  <tbody>\n",
       "    <tr>\n",
       "      <th>0</th>\n",
       "      <td>The Shining</td>\n",
       "      <td>R</td>\n",
       "      <td>Drama</td>\n",
       "      <td>1980</td>\n",
       "      <td>8.4</td>\n",
       "      <td>Stanley Kubrick</td>\n",
       "      <td>United Kingdom</td>\n",
       "      <td>19000000.0</td>\n",
       "      <td>46998772.0</td>\n",
       "      <td>Warner Bros.</td>\n",
       "      <td>146.0</td>\n",
       "      <td>June 13, 1980</td>\n",
       "    </tr>\n",
       "    <tr>\n",
       "      <th>1</th>\n",
       "      <td>The Blue Lagoon</td>\n",
       "      <td>R</td>\n",
       "      <td>Adventure</td>\n",
       "      <td>1980</td>\n",
       "      <td>5.8</td>\n",
       "      <td>Randal Kleiser</td>\n",
       "      <td>United States</td>\n",
       "      <td>4500000.0</td>\n",
       "      <td>58853106.0</td>\n",
       "      <td>Columbia Pictures</td>\n",
       "      <td>104.0</td>\n",
       "      <td>July 2, 1980</td>\n",
       "    </tr>\n",
       "    <tr>\n",
       "      <th>2</th>\n",
       "      <td>Star Wars: Episode V - The Empire Strikes Back</td>\n",
       "      <td>PG</td>\n",
       "      <td>Action</td>\n",
       "      <td>1980</td>\n",
       "      <td>8.7</td>\n",
       "      <td>Irvin Kershner</td>\n",
       "      <td>United States</td>\n",
       "      <td>18000000.0</td>\n",
       "      <td>538375067.0</td>\n",
       "      <td>Lucasfilm</td>\n",
       "      <td>124.0</td>\n",
       "      <td>June 20, 1980</td>\n",
       "    </tr>\n",
       "    <tr>\n",
       "      <th>3</th>\n",
       "      <td>Airplane!</td>\n",
       "      <td>PG</td>\n",
       "      <td>Comedy</td>\n",
       "      <td>1980</td>\n",
       "      <td>7.7</td>\n",
       "      <td>Jim Abrahams</td>\n",
       "      <td>United States</td>\n",
       "      <td>3500000.0</td>\n",
       "      <td>83453539.0</td>\n",
       "      <td>Paramount Pictures</td>\n",
       "      <td>88.0</td>\n",
       "      <td>July 2, 1980</td>\n",
       "    </tr>\n",
       "    <tr>\n",
       "      <th>4</th>\n",
       "      <td>Caddyshack</td>\n",
       "      <td>R</td>\n",
       "      <td>Comedy</td>\n",
       "      <td>1980</td>\n",
       "      <td>7.3</td>\n",
       "      <td>Harold Ramis</td>\n",
       "      <td>United States</td>\n",
       "      <td>6000000.0</td>\n",
       "      <td>39846344.0</td>\n",
       "      <td>Orion Pictures</td>\n",
       "      <td>98.0</td>\n",
       "      <td>July 25, 1980</td>\n",
       "    </tr>\n",
       "    <tr>\n",
       "      <th>5</th>\n",
       "      <td>Friday the 13th</td>\n",
       "      <td>R</td>\n",
       "      <td>Horror</td>\n",
       "      <td>1980</td>\n",
       "      <td>6.4</td>\n",
       "      <td>Sean S. Cunningham</td>\n",
       "      <td>United States</td>\n",
       "      <td>550000.0</td>\n",
       "      <td>39754601.0</td>\n",
       "      <td>Paramount Pictures</td>\n",
       "      <td>95.0</td>\n",
       "      <td>May 9, 1980</td>\n",
       "    </tr>\n",
       "    <tr>\n",
       "      <th>6</th>\n",
       "      <td>The Blues Brothers</td>\n",
       "      <td>R</td>\n",
       "      <td>Action</td>\n",
       "      <td>1980</td>\n",
       "      <td>7.9</td>\n",
       "      <td>John Landis</td>\n",
       "      <td>United States</td>\n",
       "      <td>27000000.0</td>\n",
       "      <td>115229890.0</td>\n",
       "      <td>Universal Pictures</td>\n",
       "      <td>133.0</td>\n",
       "      <td>June 20, 1980</td>\n",
       "    </tr>\n",
       "    <tr>\n",
       "      <th>7</th>\n",
       "      <td>Raging Bull</td>\n",
       "      <td>R</td>\n",
       "      <td>Biography</td>\n",
       "      <td>1980</td>\n",
       "      <td>8.2</td>\n",
       "      <td>Martin Scorsese</td>\n",
       "      <td>United States</td>\n",
       "      <td>18000000.0</td>\n",
       "      <td>23402427.0</td>\n",
       "      <td>Chartoff-Winkler Productions</td>\n",
       "      <td>129.0</td>\n",
       "      <td>December 19, 1980</td>\n",
       "    </tr>\n",
       "    <tr>\n",
       "      <th>8</th>\n",
       "      <td>Superman II</td>\n",
       "      <td>PG</td>\n",
       "      <td>Action</td>\n",
       "      <td>1980</td>\n",
       "      <td>6.8</td>\n",
       "      <td>Richard Lester</td>\n",
       "      <td>United States</td>\n",
       "      <td>54000000.0</td>\n",
       "      <td>108185706.0</td>\n",
       "      <td>Dovemead Films</td>\n",
       "      <td>127.0</td>\n",
       "      <td>June 19, 1981</td>\n",
       "    </tr>\n",
       "    <tr>\n",
       "      <th>9</th>\n",
       "      <td>The Long Riders</td>\n",
       "      <td>R</td>\n",
       "      <td>Biography</td>\n",
       "      <td>1980</td>\n",
       "      <td>7.0</td>\n",
       "      <td>Walter Hill</td>\n",
       "      <td>United States</td>\n",
       "      <td>10000000.0</td>\n",
       "      <td>15795189.0</td>\n",
       "      <td>United Artists</td>\n",
       "      <td>100.0</td>\n",
       "      <td>May 16, 1980</td>\n",
       "    </tr>\n",
       "  </tbody>\n",
       "</table>\n",
       "</div>"
      ],
      "text/plain": [
       "                                             name rating      genre  year  \\\n",
       "0                                     The Shining      R      Drama  1980   \n",
       "1                                 The Blue Lagoon      R  Adventure  1980   \n",
       "2  Star Wars: Episode V - The Empire Strikes Back     PG     Action  1980   \n",
       "3                                       Airplane!     PG     Comedy  1980   \n",
       "4                                      Caddyshack      R     Comedy  1980   \n",
       "5                                 Friday the 13th      R     Horror  1980   \n",
       "6                              The Blues Brothers      R     Action  1980   \n",
       "7                                     Raging Bull      R  Biography  1980   \n",
       "8                                     Superman II     PG     Action  1980   \n",
       "9                                 The Long Riders      R  Biography  1980   \n",
       "\n",
       "   score            director         country      budget        gross  \\\n",
       "0    8.4     Stanley Kubrick  United Kingdom  19000000.0   46998772.0   \n",
       "1    5.8      Randal Kleiser   United States   4500000.0   58853106.0   \n",
       "2    8.7      Irvin Kershner   United States  18000000.0  538375067.0   \n",
       "3    7.7        Jim Abrahams   United States   3500000.0   83453539.0   \n",
       "4    7.3        Harold Ramis   United States   6000000.0   39846344.0   \n",
       "5    6.4  Sean S. Cunningham   United States    550000.0   39754601.0   \n",
       "6    7.9         John Landis   United States  27000000.0  115229890.0   \n",
       "7    8.2     Martin Scorsese   United States  18000000.0   23402427.0   \n",
       "8    6.8      Richard Lester   United States  54000000.0  108185706.0   \n",
       "9    7.0         Walter Hill   United States  10000000.0   15795189.0   \n",
       "\n",
       "                        company  runtime                date  \n",
       "0                  Warner Bros.    146.0      June 13, 1980   \n",
       "1             Columbia Pictures    104.0       July 2, 1980   \n",
       "2                     Lucasfilm    124.0      June 20, 1980   \n",
       "3            Paramount Pictures     88.0       July 2, 1980   \n",
       "4                Orion Pictures     98.0      July 25, 1980   \n",
       "5            Paramount Pictures     95.0        May 9, 1980   \n",
       "6            Universal Pictures    133.0      June 20, 1980   \n",
       "7  Chartoff-Winkler Productions    129.0  December 19, 1980   \n",
       "8                Dovemead Films    127.0      June 19, 1981   \n",
       "9                United Artists    100.0       May 16, 1980   "
      ]
     },
     "execution_count": 8,
     "metadata": {},
     "output_type": "execute_result"
    }
   ],
   "source": [
    "movies.head(10)"
   ]
  },
  {
   "cell_type": "markdown",
   "metadata": {},
   "source": [
    "## Attribute's Descriptors"
   ]
  },
  {
   "cell_type": "markdown",
   "metadata": {},
   "source": [
    "**Name:**"
   ]
  },
  {
   "cell_type": "code",
   "execution_count": 9,
   "metadata": {},
   "outputs": [],
   "source": [
    "# code here"
   ]
  },
  {
   "cell_type": "markdown",
   "metadata": {},
   "source": [
    "**Rating:** Rating is a classification given by the Motion Picture Association (MPA) to rate the target audience of a film. We can use this data later to see any correlation between film rating and gross earnings, scores, and other variables. There is a big difference between the rating with the most"
   ]
  },
  {
   "cell_type": "code",
   "execution_count": 10,
   "metadata": {},
   "outputs": [
    {
     "data": {
      "image/png": "[encoded data removed]",
      "text/plain": [
       "<Figure size 800x500 with 2 Axes>"
      ]
     },
     "metadata": {},
     "output_type": "display_data"
    }
   ],
   "source": [
    "ratingsDF = pd.DataFrame()\n",
    "ratingsDF['Count'] = movies['rating'].value_counts().sort_values(ascending=False)\n",
    "ratingsDF['Rating'] = movies['rating'].value_counts().index.tolist()\n",
    "\n",
    "fig = plt.figure(figsize=(8,5))\n",
    "\n",
    "ax1 = fig.add_subplot(121)\n",
    "plot = ax1.barh(ratingsDF['Rating'],ratingsDF['Count'], 0.8)\n",
    "\n",
    "ax2 = fig.add_subplot(122)\n",
    "ax2.axis('off')\n",
    "font_size=12\n",
    "bbox=[0, 0, 1, 1]\n",
    "table = ax2.table(cellText = ratingsDF.values, bbox=bbox, colLabels=ratingsDF.columns)\n",
    "table.auto_set_font_size(False)\n",
    "table.set_fontsize(font_size)\n",
    "\n",
    "plt.show()"
   ]
  },
  {
   "cell_type": "markdown",
   "metadata": {},
   "source": [
    "**Genre:**"
   ]
  },
  {
   "cell_type": "code",
   "execution_count": 11,
   "metadata": {},
   "outputs": [
    {
     "data": {
      "image/png": "[encoded data removed]",
      "text/plain": [
       "<Figure size 800x500 with 2 Axes>"
      ]
     },
     "metadata": {},
     "output_type": "display_data"
    }
   ],
   "source": [
    "GenreDF = pd.DataFrame()\n",
    "GenreDF['Count'] = movies['genre'].value_counts()\n",
    "GenreDF['Genre'] = movies['genre'].value_counts().index.tolist()\n",
    "\n",
    "fig = plt.figure(figsize=(8,5))\n",
    "\n",
    "ax1 = fig.add_subplot(121)\n",
    "plot = ax1.barh(GenreDF['Genre'],GenreDF['Count'], 0.8)\n",
    "\n",
    "ax2 = fig.add_subplot(122)\n",
    "font_size=14\n",
    "bbox=[0, 0, 1, 1]\n",
    "ax2.axis('off')\n",
    "mpl_table = ax2.table(cellText = GenreDF.values, bbox=bbox, colLabels=GenreDF.columns)\n",
    "mpl_table.auto_set_font_size(False)\n",
    "mpl_table.set_fontsize(font_size)"
   ]
  },
  {
   "cell_type": "markdown",
   "metadata": {},
   "source": [
    "**Year:**"
   ]
  },
  {
   "cell_type": "code",
   "execution_count": 12,
   "metadata": {},
   "outputs": [
    {
     "data": {
      "image/png": "[encoded data removed]",
      "text/plain": [
       "<Figure size 640x480 with 1 Axes>"
      ]
     },
     "metadata": {},
     "output_type": "display_data"
    }
   ],
   "source": [
    "YearsPlot = movies['year'].value_counts().plot.bar()"
   ]
  },
  {
   "cell_type": "markdown",
   "metadata": {},
   "source": [
    "**Score:**"
   ]
  },
  {
   "cell_type": "code",
   "execution_count": 13,
   "metadata": {},
   "outputs": [
    {
     "data": {
      "image/png": "[encoded data removed]",
      "text/plain": [
       "<Figure size 1600x500 with 1 Axes>"
      ]
     },
     "metadata": {},
     "output_type": "display_data"
    }
   ],
   "source": [
    "ScoreDF = pd.DataFrame()\n",
    "ScoreDF['Count'] = movies['score'].value_counts().sort_values(ascending=False)\n",
    "ScoreDF['Score'] = movies['score'].value_counts().index.tolist()\n",
    "\n",
    "fig = plt.figure(figsize=(16,5))\n",
    "\n",
    "ax1 = fig.add_subplot(121)\n",
    "plot = ax1.bar(ScoreDF['Score'],ScoreDF['Count'], 0.8)\n",
    "\n",
    "plt.show()"
   ]
  },
  {
   "cell_type": "markdown",
   "metadata": {},
   "source": [
    "**Director:**"
   ]
  },
  {
   "cell_type": "code",
   "execution_count": 14,
   "metadata": {},
   "outputs": [
    {
     "data": {
      "image/png": "[encoded data removed]",
      "text/plain": [
       "<Figure size 1600x500 with 1 Axes>"
      ]
     },
     "metadata": {},
     "output_type": "display_data"
    }
   ],
   "source": [
    "ScoreDF = pd.DataFrame()\n",
    "ScoreDF['Count'] = movies['score'].value_counts().sort_values(ascending=False)\n",
    "ScoreDF['Score'] = movies['score'].value_counts().index.tolist()\n",
    "\n",
    "fig = plt.figure(figsize=(16,5))\n",
    "\n",
    "ax1 = fig.add_subplot(121)\n",
    "plot = ax1.bar(ScoreDF['Score'],ScoreDF['Count'], 0.8)\n",
    "\n",
    "plt.show()"
   ]
  },
  {
   "cell_type": "markdown",
   "metadata": {},
   "source": [
    "**Country:**"
   ]
  },
  {
   "cell_type": "code",
   "execution_count": 16,
   "metadata": {},
   "outputs": [],
   "source": [
    "# how do we want to plot this?\n",
    "#movies['country'].value_counts()"
   ]
  },
  {
   "cell_type": "markdown",
   "metadata": {},
   "source": [
    "**Budget:**"
   ]
  },
  {
   "cell_type": "code",
   "execution_count": null,
   "metadata": {},
   "outputs": [],
   "source": [
    "# how do we want to plot this?"
   ]
  },
  {
   "cell_type": "markdown",
   "metadata": {},
   "source": [
    "**Gross:**"
   ]
  },
  {
   "cell_type": "markdown",
   "metadata": {},
   "source": [
    "**Company:**"
   ]
  },
  {
   "cell_type": "markdown",
   "metadata": {},
   "source": [
    "**Runtime:**"
   ]
  },
  {
   "cell_type": "code",
   "execution_count": null,
   "metadata": {},
   "outputs": [],
   "source": [
    "runtime = movies['runtime'].value_counts()\n",
    "runtime = runtime.cumsum()\n",
    "runtime.plot.bar()"
   ]
  },
  {
   "cell_type": "markdown",
   "metadata": {},
   "source": [
    "**Date:**"
   ]
  },
  {
   "cell_type": "code",
   "execution_count": null,
   "metadata": {},
   "outputs": [],
   "source": [
    "dates = movies['date'].value_counts()\n",
    "dates.plot()"
   ]
  },
  {
   "cell_type": "markdown",
   "metadata": {},
   "source": [
    "**Release Country:**"
   ]
  },
  {
   "cell_type": "markdown",
   "metadata": {},
   "source": [
    "## Mila trying to get a feel for the data distributions (consider semi-serious)"
   ]
  },
  {
   "cell_type": "code",
   "execution_count": null,
   "metadata": {},
   "outputs": [],
   "source": [
    "movies.info()"
   ]
  },
  {
   "cell_type": "markdown",
   "metadata": {},
   "source": [
    "Data in columns such as 'budget', 'gross' should be converted to float64; 'runtime' should be converted to int64, an 'name','rating', 'genre', 'country', 'company', 'release_country' should be strings. \n",
    "'year' can be converted to string because we are not likely to use it in any kind of statistical analysis. "
   ]
  },
  {
   "cell_type": "code",
   "execution_count": null,
   "metadata": {},
   "outputs": [],
   "source": [
    "movies['score'] = movies['score'].astype(np.float64)\n",
    "movies['budget'] = movies['budget'].astype(np.float64)\n",
    "#movies['year'] = movies['year'].astype('|S4')"
   ]
  },
  {
   "cell_type": "code",
   "execution_count": null,
   "metadata": {},
   "outputs": [],
   "source": [
    "movies.describe()"
   ]
  },
  {
   "cell_type": "code",
   "execution_count": null,
   "metadata": {},
   "outputs": [],
   "source": [
    "\n",
    "movies.agg({'budget': ['mean', 'std', 'median'], 'gross': ['mean', 'std']})\n"
   ]
  },
  {
   "cell_type": "code",
   "execution_count": null,
   "metadata": {},
   "outputs": [],
   "source": [
    "agg_dict = {'budget': ['mean'], 'gross': ['mean']}\n",
    "shmoney = movies.groupby(['year']).agg(agg_dict)\n",
    "shmoney"
   ]
  },
  {
   "cell_type": "code",
   "execution_count": null,
   "metadata": {},
   "outputs": [],
   "source": [
    "shmoney.plot()\n",
    "#axs.plot()"
   ]
  },
  {
   "cell_type": "markdown",
   "metadata": {},
   "source": [
    "Well, the result of this evenings practice is that we have a noice graph about shmoney which tells us that movies' gross earnings have been steadily increasing over the years. Movies have also been becoming more expensive to make, however the increase in this parameter is not as drastic. "
   ]
  },
  {
   "cell_type": "markdown",
   "metadata": {},
   "source": [
    "### Mila tries scatter plots"
   ]
  },
  {
   "cell_type": "code",
   "execution_count": null,
   "metadata": {},
   "outputs": [],
   "source": [
    "plt.scatter(movies[['budget']], movies[['year']])"
   ]
  },
  {
   "cell_type": "markdown",
   "metadata": {},
   "source": [
    "Typycally, as Budget of the movies goes up, so does the Gross company earnings. "
   ]
  },
  {
   "cell_type": "code",
   "execution_count": null,
   "metadata": {},
   "outputs": [],
   "source": [
    "plt.scatter(movies[['budget']], movies[['gross']])\n",
    "plt.xlabel(\"Budget\")\n",
    "plt.ylabel(\"Gross\")"
   ]
  },
  {
   "cell_type": "code",
   "execution_count": null,
   "metadata": {},
   "outputs": [],
   "source": [
    "movies.sort_values(by='gross',ascending=False).head(10)\n",
    "#Top ten most commercially successful movies "
   ]
  },
  {
   "cell_type": "code",
   "execution_count": null,
   "metadata": {},
   "outputs": [],
   "source": [
    "movies.sort_values(by='budget', ascending=False).head(10)\n",
    "#Top ten most expensive movies\n",
    "#Also all of the most expensive and commercially successful movies are in Action genre.\n",
    "#Marvel and Walt Disney (which are the same thing now, talk about monopoly) are clearly dominating the market. "
   ]
  },
  {
   "cell_type": "code",
   "execution_count": null,
   "metadata": {},
   "outputs": [],
   "source": [
    "movies['net_gross'] = movies['gross'] - movies['budget']\n",
    "movies.sort_values(by='net_gross', ascending=False).head(10)\n",
    "#I thought I would see a different disctribution if I sorted by net gross but no, still Disney making bank"
   ]
  },
  {
   "cell_type": "code",
   "execution_count": null,
   "metadata": {},
   "outputs": [],
   "source": [
    "#To illustrate how Action/Animation movies and specifically Disney movies dominate the film industry, here are some histograms:\n",
    "shmoneys_genre = movies.groupby('genre').agg({'net_gross':['mean']})\n",
    "shmoneys_genre.plot.barh(legend=False)\n"
   ]
  },
  {
   "cell_type": "code",
   "execution_count": null,
   "metadata": {},
   "outputs": [],
   "source": [
    "#Okay, weird graph why the heck is this Family bar so huge??"
   ]
  },
  {
   "cell_type": "code",
   "execution_count": null,
   "metadata": {},
   "outputs": [],
   "source": [
    "shmoneys_genre = movies.groupby('genre').agg({'net_gross':['sum']})\n",
    "shmoneys_genre.plot.barh(legend=False)\n"
   ]
  },
  {
   "cell_type": "code",
   "execution_count": null,
   "metadata": {},
   "outputs": [],
   "source": [
    "#Okay well by sum we can see that Action movies are the most successful, probably solely because of Marvel"
   ]
  },
  {
   "cell_type": "code",
   "execution_count": null,
   "metadata": {},
   "outputs": [],
   "source": [
    "#I wonder what is the most common genre by number of movies?"
   ]
  },
  {
   "cell_type": "code",
   "execution_count": null,
   "metadata": {},
   "outputs": [],
   "source": [
    "disney = movies[(movies[\"company\"] == \"Walt Disney Pictures\") | (movies[\"company\"] == \"Marvel Studios\")]"
   ]
  },
  {
   "cell_type": "code",
   "execution_count": null,
   "metadata": {},
   "outputs": [],
   "source": [
    "shmoneys_company = movies.groupby(\"company\").agg({'net_gross':['sum']})\n",
    "shmoneys_company_sorted = shmoneys_company.sort_values(by=[(\"net_gross\", \"sum\")], ascending=False)"
   ]
  },
  {
   "cell_type": "code",
   "execution_count": null,
   "metadata": {},
   "outputs": [],
   "source": [
    "shmoneys_company_top10_sum = shmoneys_company_sorted.iloc[:10]\n",
    "shmoneys_company_top10_sum.plot.barh(legend=False)"
   ]
  },
  {
   "cell_type": "code",
   "execution_count": null,
   "metadata": {},
   "outputs": [],
   "source": [
    "shmoneys_company2 = movies.groupby(\"company\").agg({'net_gross':['mean']})\n",
    "shmoneys_company_mean_sorted = shmoneys_company2.sort_values(by=[(\"net_gross\", \"mean\")], ascending=False).head(20)\n",
    "\n",
    "shmoneys_company_top10_mean = shmoneys_company_mean_sorted.iloc[:10]\n",
    "shmoneys_company_top10_mean.plot.barh(legend=False)"
   ]
  },
  {
   "cell_type": "code",
   "execution_count": null,
   "metadata": {},
   "outputs": [],
   "source": [
    "#Okay well it makes sense that by sum Universal Pictures is the shmoniest company as it is pretty old and has a BUNCH of movies\n",
    "#(no matter how mediocre). \n",
    "#By mean however, I am finally proving my suspicions that Marvel folks are eating gold"
   ]
  }
 ],
 "metadata": {
  "kernelspec": {
   "display_name": "Python 3 (ipykernel)",
   "language": "python",
   "name": "python3"
  },
  "language_info": {
   "codemirror_mode": {
    "name": "ipython",
    "version": 3
   },
   "file_extension": ".py",
   "mimetype": "text/x-python",
   "name": "python",
   "nbconvert_exporter": "python",
   "pygments_lexer": "ipython3",
   "version": "3.9.7"
  }
 },
 "nbformat": 4,
 "nbformat_minor": 5
}
